{
 "cells": [
  {
   "cell_type": "markdown",
   "metadata": {},
   "source": [
    "<H><b>\n",
    "This capstone project will be graded by your peers. <br>\n",
    "    This capstone project is worth 70% of your\n",
    "                           total grade. The project will be completed over the course of 2 weeks.<br>Week 1 submissions will\n",
    "                             be worth 30% whereas week 2 submissions will be worth 40% of your total grade.\n",
    "</H> "
   ]
  },
  {
   "cell_type": "markdown",
   "metadata": {},
   "source": [
    "<font H><b>\n",
    "    A description of the problem and a discussion of the background. (15 marks)<br>\n",
    "A description of the data and how it will be used to solve the problem. (15 marks)\n",
    "    </H>\n",
    "    "
   ]
  },
  {
   "cell_type": "markdown",
   "metadata": {},
   "source": [
    "<H><b>\n",
    "A description of the problem and a discussion of the background?</H>"
   ]
  },
  {
   "cell_type": "markdown",
   "metadata": {},
   "source": [
    "<p> \n",
    "A travel agency want to open a new travel package to New York city. Before opening a New package they want to get full guide of New york city.\n",
    "    since they want to be differed from other travel package, and to provide an in-depth experience to its clints. So, they want to count the venues \n",
    "    of each neibourhood and identify some distinct area and provides tour guide to walk through some of the areas with clients.</p>"
   ]
  },
  {
   "cell_type": "markdown",
   "metadata": {},
   "source": [
    "<H><b>\n",
    "    A description of the data and how it will be used to solve the problem?</H>"
   ]
  },
  {
   "cell_type": "markdown",
   "metadata": {},
   "source": [
    "<p> A map data is available through Foursquare Api.  from where  he can get venues imformation by searching and neighbourhood imformation can be get by searching zipcode</p>"
   ]
  },
  {
   "cell_type": "code",
   "execution_count": null,
   "metadata": {},
   "outputs": [],
   "source": []
  }
 ],
 "metadata": {
  "kernelspec": {
   "display_name": "Python",
   "language": "python",
   "name": "conda-env-python-py"
  },
  "language_info": {
   "codemirror_mode": {
    "name": "ipython",
    "version": 3
   },
   "file_extension": ".py",
   "mimetype": "text/x-python",
   "name": "python",
   "nbconvert_exporter": "python",
   "pygments_lexer": "ipython3",
   "version": "3.6.7"
  }
 },
 "nbformat": 4,
 "nbformat_minor": 4
}
